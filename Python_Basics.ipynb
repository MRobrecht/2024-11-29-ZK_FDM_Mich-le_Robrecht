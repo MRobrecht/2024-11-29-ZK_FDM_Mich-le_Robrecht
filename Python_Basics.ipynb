{
 "cells": [
  {
   "cell_type": "markdown",
   "id": "49d152b8-16c6-4133-bb43-fa1a5ca80d62",
   "metadata": {},
   "source": [
    "# Python Einführung"
   ]
  },
  {
   "cell_type": "code",
   "execution_count": 1,
   "id": "9c38787a-5d79-4aaa-8fc3-4ab5bb0e4b97",
   "metadata": {},
   "outputs": [
    {
     "name": "stdout",
     "output_type": "stream",
     "text": [
      "Hello world!\n"
     ]
    }
   ],
   "source": [
    "print(\"Hello world!\")"
   ]
  },
  {
   "cell_type": "code",
   "execution_count": 2,
   "id": "e8292949-7ea3-4e48-a91d-04081de9bc60",
   "metadata": {},
   "outputs": [
    {
     "name": "stdout",
     "output_type": "stream",
     "text": [
      "Something\n"
     ]
    }
   ],
   "source": [
    "# Dies ist ein Kommentar\n",
    "print(\"Something\")"
   ]
  },
  {
   "cell_type": "code",
   "execution_count": 3,
   "id": "05a69878-2a33-4abf-8092-cfcd65514245",
   "metadata": {},
   "outputs": [],
   "source": [
    "# Dies ist ein Kommentar\n",
    "# print(\"Something\")"
   ]
  },
  {
   "cell_type": "markdown",
   "id": "96051103-a3f9-485c-96d8-f1b1b41e8136",
   "metadata": {},
   "source": [
    "## Einfache Datentypen"
   ]
  },
  {
   "cell_type": "code",
   "execution_count": 4,
   "id": "c56d0aa0-3b42-477a-98c1-a7ce4c74c664",
   "metadata": {},
   "outputs": [],
   "source": [
    "# Variablen und Wertezuweisungen\n",
    "name = \"Robrecht\""
   ]
  },
  {
   "cell_type": "code",
   "execution_count": 5,
   "id": "d06b14b2-61a9-47f7-b573-e76f7cb4d085",
   "metadata": {},
   "outputs": [
    {
     "name": "stdout",
     "output_type": "stream",
     "text": [
      "Robrecht\n"
     ]
    }
   ],
   "source": [
    "print(name)"
   ]
  },
  {
   "cell_type": "code",
   "execution_count": 6,
   "id": "c7bee1fd-6425-4d4c-aaa9-021b65d2f3e9",
   "metadata": {},
   "outputs": [
    {
     "name": "stdout",
     "output_type": "stream",
     "text": [
      "Michèle\n"
     ]
    }
   ],
   "source": [
    "# String - Zeichenkette\n",
    "first_name = \"Michèle\"\n",
    "print(first_name)"
   ]
  },
  {
   "cell_type": "code",
   "execution_count": 7,
   "id": "e8ee7187-7128-48e4-b28d-b76ca46ad7a5",
   "metadata": {},
   "outputs": [
    {
     "name": "stdout",
     "output_type": "stream",
     "text": [
      "29\n"
     ]
    }
   ],
   "source": [
    "# Integer - Ganzzahlen\n",
    "age = 29\n",
    "print(age)"
   ]
  },
  {
   "cell_type": "code",
   "execution_count": 8,
   "id": "a380ae35-035e-4853-883b-8e42b86eeb82",
   "metadata": {},
   "outputs": [
    {
     "name": "stdout",
     "output_type": "stream",
     "text": [
      "1.65\n"
     ]
    }
   ],
   "source": [
    "# Float - Gleitkommazahlen\n",
    "size = 1.65\n",
    "print (size)"
   ]
  },
  {
   "cell_type": "code",
   "execution_count": 10,
   "id": "f0db1e47-3d60-4aee-a71e-f2dacf971ed3",
   "metadata": {},
   "outputs": [
    {
     "name": "stdout",
     "output_type": "stream",
     "text": [
      "True\n",
      "False\n"
     ]
    }
   ],
   "source": [
    "# Boolean - Boolsche Werte\n",
    "knows_publications = True\n",
    "print(knows_publications)\n",
    "likes_gardening = False\n",
    "print(likes_gardening)"
   ]
  },
  {
   "cell_type": "code",
   "execution_count": 12,
   "id": "abbcd433-abc3-40f2-8b63-d8743463f401",
   "metadata": {},
   "outputs": [
    {
     "data": {
      "text/plain": [
       "int"
      ]
     },
     "execution_count": 12,
     "metadata": {},
     "output_type": "execute_result"
    }
   ],
   "source": [
    "# Typen anzeigen lassen\n",
    "type(age)"
   ]
  },
  {
   "cell_type": "code",
   "execution_count": 13,
   "id": "4949603c-c315-4a4f-b5f1-b8a2bff68272",
   "metadata": {},
   "outputs": [
    {
     "data": {
      "text/plain": [
       "'Robrecht'"
      ]
     },
     "execution_count": 13,
     "metadata": {},
     "output_type": "execute_result"
    }
   ],
   "source": [
    "name"
   ]
  },
  {
   "cell_type": "code",
   "execution_count": 14,
   "id": "fd9aa3cc-4eb6-4ce8-8842-51a3497dfed5",
   "metadata": {},
   "outputs": [
    {
     "data": {
      "text/plain": [
       "29"
      ]
     },
     "execution_count": 14,
     "metadata": {},
     "output_type": "execute_result"
    }
   ],
   "source": [
    "name\n",
    "age"
   ]
  },
  {
   "cell_type": "code",
   "execution_count": 15,
   "id": "456887a4-5ec5-400f-9add-f52a27164336",
   "metadata": {},
   "outputs": [
    {
     "name": "stdout",
     "output_type": "stream",
     "text": [
      "Robrecht\n",
      "29\n"
     ]
    }
   ],
   "source": [
    "print(name)\n",
    "print(age)"
   ]
  },
  {
   "cell_type": "markdown",
   "id": "1b609b37-7e7a-4b75-84fb-6b95e1f70f4c",
   "metadata": {},
   "source": [
    "## Operatoren"
   ]
  },
  {
   "cell_type": "code",
   "execution_count": 16,
   "id": "54435d94-43c9-457c-9bd8-13416f318c7c",
   "metadata": {},
   "outputs": [
    {
     "data": {
      "text/plain": [
       "10"
      ]
     },
     "execution_count": 16,
     "metadata": {},
     "output_type": "execute_result"
    }
   ],
   "source": [
    "# Addition\n",
    "5 + 5"
   ]
  },
  {
   "cell_type": "code",
   "execution_count": 17,
   "id": "7797380e-c4ae-4156-8148-c00393feae0e",
   "metadata": {},
   "outputs": [
    {
     "data": {
      "text/plain": [
       "2900"
      ]
     },
     "execution_count": 17,
     "metadata": {},
     "output_type": "execute_result"
    }
   ],
   "source": [
    "# Multiplikation\n",
    "age * 100"
   ]
  },
  {
   "cell_type": "code",
   "execution_count": 18,
   "id": "f67d7412-9f7b-458d-8e1d-3086619056b2",
   "metadata": {},
   "outputs": [
    {
     "data": {
      "text/plain": [
       "'RobrechtRobrecht'"
      ]
     },
     "execution_count": 18,
     "metadata": {},
     "output_type": "execute_result"
    }
   ],
   "source": [
    "# Verkettung von strings\n",
    "name + name"
   ]
  },
  {
   "cell_type": "code",
   "execution_count": 19,
   "id": "62095bc6-0e32-467a-9512-60129fe3f24a",
   "metadata": {},
   "outputs": [
    {
     "data": {
      "text/plain": [
       "'MichèleRobrecht'"
      ]
     },
     "execution_count": 19,
     "metadata": {},
     "output_type": "execute_result"
    }
   ],
   "source": [
    "first_name + name"
   ]
  },
  {
   "cell_type": "code",
   "execution_count": 21,
   "id": "31731bfe-203b-473d-8f3a-1b3fb4f55143",
   "metadata": {},
   "outputs": [
    {
     "name": "stdout",
     "output_type": "stream",
     "text": [
      "Michèle Robrecht\n"
     ]
    }
   ],
   "source": [
    "print(first_name + \" \" + name)"
   ]
  },
  {
   "cell_type": "code",
   "execution_count": 22,
   "id": "050afd9e-620e-4cbe-ba6a-c70dbf74369a",
   "metadata": {},
   "outputs": [
    {
     "data": {
      "text/plain": [
       "'RobrechtRobrechtRobrechtRobrechtRobrechtRobrechtRobrechtRobrechtRobrechtRobrecht'"
      ]
     },
     "execution_count": 22,
     "metadata": {},
     "output_type": "execute_result"
    }
   ],
   "source": [
    "name * 10"
   ]
  },
  {
   "cell_type": "code",
   "execution_count": 23,
   "id": "948452b2-5cd2-4566-bad9-90cf326b374b",
   "metadata": {},
   "outputs": [
    {
     "ename": "TypeError",
     "evalue": "can only concatenate str (not \"int\") to str",
     "output_type": "error",
     "traceback": [
      "\u001b[1;31m---------------------------------------------------------------------------\u001b[0m",
      "\u001b[1;31mTypeError\u001b[0m                                 Traceback (most recent call last)",
      "Cell \u001b[1;32mIn[23], line 1\u001b[0m\n\u001b[1;32m----> 1\u001b[0m \u001b[43mname\u001b[49m\u001b[43m \u001b[49m\u001b[38;5;241;43m+\u001b[39;49m\u001b[43m \u001b[49m\u001b[38;5;241;43m10\u001b[39;49m\n",
      "\u001b[1;31mTypeError\u001b[0m: can only concatenate str (not \"int\") to str"
     ]
    }
   ],
   "source": [
    "name + 10"
   ]
  },
  {
   "cell_type": "code",
   "execution_count": 24,
   "id": "b80b5569-cca2-4b9d-a787-cb684d10fca6",
   "metadata": {},
   "outputs": [
    {
     "data": {
      "text/plain": [
       "'Robrecht10'"
      ]
     },
     "execution_count": 24,
     "metadata": {},
     "output_type": "execute_result"
    }
   ],
   "source": [
    "name + \"10\""
   ]
  },
  {
   "cell_type": "code",
   "execution_count": 25,
   "id": "2e9db42e-d003-4255-bce7-8aa0837481fa",
   "metadata": {},
   "outputs": [
    {
     "data": {
      "text/plain": [
       "0.05689655172413793"
      ]
     },
     "execution_count": 25,
     "metadata": {},
     "output_type": "execute_result"
    }
   ],
   "source": [
    "size / age"
   ]
  },
  {
   "cell_type": "code",
   "execution_count": 26,
   "id": "5303df70-e24e-4322-b451-425efad8499c",
   "metadata": {},
   "outputs": [],
   "source": [
    "number_of_articles = \"50\""
   ]
  },
  {
   "cell_type": "code",
   "execution_count": 27,
   "id": "a5aae193-6ff0-4890-ae36-6d366d2dd55e",
   "metadata": {},
   "outputs": [
    {
     "ename": "TypeError",
     "evalue": "unsupported operand type(s) for /: 'str' and 'int'",
     "output_type": "error",
     "traceback": [
      "\u001b[1;31m---------------------------------------------------------------------------\u001b[0m",
      "\u001b[1;31mTypeError\u001b[0m                                 Traceback (most recent call last)",
      "Cell \u001b[1;32mIn[27], line 1\u001b[0m\n\u001b[1;32m----> 1\u001b[0m \u001b[43mnumber_of_articles\u001b[49m\u001b[43m \u001b[49m\u001b[38;5;241;43m/\u001b[39;49m\u001b[43m \u001b[49m\u001b[38;5;241;43m10\u001b[39;49m\n",
      "\u001b[1;31mTypeError\u001b[0m: unsupported operand type(s) for /: 'str' and 'int'"
     ]
    }
   ],
   "source": [
    "number_of_articles / 10"
   ]
  },
  {
   "cell_type": "code",
   "execution_count": 28,
   "id": "e7cab8a1-ca35-401b-b1f8-d80a9501fcc7",
   "metadata": {},
   "outputs": [
    {
     "data": {
      "text/plain": [
       "5.0"
      ]
     },
     "execution_count": 28,
     "metadata": {},
     "output_type": "execute_result"
    }
   ],
   "source": [
    "int(number_of_articles) / 10"
   ]
  },
  {
   "cell_type": "code",
   "execution_count": 29,
   "id": "a35c4633-36f5-454c-917b-381f4721a6ce",
   "metadata": {},
   "outputs": [
    {
     "data": {
      "text/plain": [
       "str"
      ]
     },
     "execution_count": 29,
     "metadata": {},
     "output_type": "execute_result"
    }
   ],
   "source": [
    "type(number_of_articles\n",
    ")"
   ]
  },
  {
   "cell_type": "markdown",
   "id": "790c695f-a564-4731-ad55-40e60e2e1a95",
   "metadata": {},
   "source": [
    "## Funktionen und Methoden"
   ]
  },
  {
   "cell_type": "code",
   "execution_count": 30,
   "id": "d23163da-1f68-4594-9e11-9284723bc850",
   "metadata": {},
   "outputs": [
    {
     "data": {
      "text/plain": [
       "8"
      ]
     },
     "execution_count": 30,
     "metadata": {},
     "output_type": "execute_result"
    }
   ],
   "source": [
    "# Funktion\n",
    "len(name)"
   ]
  },
  {
   "cell_type": "code",
   "execution_count": 31,
   "id": "b738ca22-1282-4173-87ac-00a407793c78",
   "metadata": {},
   "outputs": [
    {
     "data": {
      "text/plain": [
       "'ROBRECHT'"
      ]
     },
     "execution_count": 31,
     "metadata": {},
     "output_type": "execute_result"
    }
   ],
   "source": [
    "# Methode\n",
    "name.upper()"
   ]
  },
  {
   "cell_type": "code",
   "execution_count": 32,
   "id": "c30f703e-11b7-46dd-bf7a-06164bcd149b",
   "metadata": {},
   "outputs": [
    {
     "data": {
      "text/plain": [
       "1"
      ]
     },
     "execution_count": 32,
     "metadata": {},
     "output_type": "execute_result"
    }
   ],
   "source": [
    "# Methode mit einem Argument\n",
    "name.count(\"e\")"
   ]
  },
  {
   "cell_type": "code",
   "execution_count": 33,
   "id": "dd55da42-21b1-405a-a6eb-ca19561b8a14",
   "metadata": {},
   "outputs": [
    {
     "data": {
      "text/plain": [
       "2"
      ]
     },
     "execution_count": 33,
     "metadata": {},
     "output_type": "execute_result"
    }
   ],
   "source": [
    "name.upper().count(\"R\")"
   ]
  },
  {
   "cell_type": "code",
   "execution_count": 34,
   "id": "d4ab1e53-3752-4861-b0c9-74fb08091116",
   "metadata": {},
   "outputs": [],
   "source": [
    "name_upper = name.upper()"
   ]
  },
  {
   "cell_type": "code",
   "execution_count": 35,
   "id": "f17bd397-8b8b-4a06-b870-1dcda7517557",
   "metadata": {},
   "outputs": [
    {
     "data": {
      "text/plain": [
       "'ROBRECHT'"
      ]
     },
     "execution_count": 35,
     "metadata": {},
     "output_type": "execute_result"
    }
   ],
   "source": [
    "name_upper"
   ]
  },
  {
   "cell_type": "code",
   "execution_count": 37,
   "id": "8c493235-9e0a-4f78-9d03-edc94d35c0cd",
   "metadata": {},
   "outputs": [
    {
     "data": {
      "text/plain": [
       "'Robbie'"
      ]
     },
     "execution_count": 37,
     "metadata": {},
     "output_type": "execute_result"
    }
   ],
   "source": [
    "# Methode mit zwei Argumenten\n",
    "name.replace(\"recht\", \"bie\")"
   ]
  },
  {
   "cell_type": "markdown",
   "id": "b5139f1d-a306-47bb-bf8e-d97696244e5b",
   "metadata": {},
   "source": [
    "## Listen und Dictionaries"
   ]
  },
  {
   "cell_type": "code",
   "execution_count": 38,
   "id": "e21faee9-1565-4439-8042-7825f68a5111",
   "metadata": {},
   "outputs": [],
   "source": [
    "names = [\"Lovelace\", \"Darwin\", \"Noether\", \"Hawking\"]"
   ]
  },
  {
   "cell_type": "code",
   "execution_count": 39,
   "id": "873e165d-a0b6-47f7-9925-cccae1aaaa8f",
   "metadata": {},
   "outputs": [
    {
     "data": {
      "text/plain": [
       "['Lovelace', 'Darwin', 'Noether', 'Hawking']"
      ]
     },
     "execution_count": 39,
     "metadata": {},
     "output_type": "execute_result"
    }
   ],
   "source": [
    "names"
   ]
  },
  {
   "cell_type": "code",
   "execution_count": 40,
   "id": "d617ae28-94d1-47ca-b57a-ce5d098f26ce",
   "metadata": {},
   "outputs": [
    {
     "name": "stdout",
     "output_type": "stream",
     "text": [
      "['Lovelace', 'Darwin', 'Noether', 'Hawking']\n"
     ]
    }
   ],
   "source": [
    "print(names)"
   ]
  },
  {
   "cell_type": "code",
   "execution_count": 41,
   "id": "5458eab6-5d3d-4688-a9b8-9effb75a52fc",
   "metadata": {},
   "outputs": [
    {
     "data": {
      "text/plain": [
       "'Darwin'"
      ]
     },
     "execution_count": 41,
     "metadata": {},
     "output_type": "execute_result"
    }
   ],
   "source": [
    "names[1]"
   ]
  },
  {
   "cell_type": "code",
   "execution_count": 42,
   "id": "6d39d071-ee32-40d5-951a-72bcff7436d7",
   "metadata": {},
   "outputs": [
    {
     "data": {
      "text/plain": [
       "'Hawking'"
      ]
     },
     "execution_count": 42,
     "metadata": {},
     "output_type": "execute_result"
    }
   ],
   "source": [
    "names[-1]"
   ]
  },
  {
   "cell_type": "code",
   "execution_count": 43,
   "id": "21e2f47b-6b41-4522-bb2a-df8e8177d977",
   "metadata": {},
   "outputs": [
    {
     "data": {
      "text/plain": [
       "['Lovelace', 'Darwin', 'Noether']"
      ]
     },
     "execution_count": 43,
     "metadata": {},
     "output_type": "execute_result"
    }
   ],
   "source": [
    "names[0:3]"
   ]
  },
  {
   "cell_type": "code",
   "execution_count": 44,
   "id": "97a36b21-0077-4d48-902b-6a48dc8a897c",
   "metadata": {},
   "outputs": [
    {
     "data": {
      "text/plain": [
       "['Lovelace', 'Darwin']"
      ]
     },
     "execution_count": 44,
     "metadata": {},
     "output_type": "execute_result"
    }
   ],
   "source": [
    "# slicing\n",
    "names[:2]"
   ]
  },
  {
   "cell_type": "code",
   "execution_count": 45,
   "id": "e9911c39-281e-4343-9df2-3ee1d126a57f",
   "metadata": {},
   "outputs": [
    {
     "data": {
      "text/plain": [
       "['Noether', 'Hawking']"
      ]
     },
     "execution_count": 45,
     "metadata": {},
     "output_type": "execute_result"
    }
   ],
   "source": [
    "names[2:]"
   ]
  },
  {
   "cell_type": "code",
   "execution_count": 46,
   "id": "fec7e535-1add-4a75-a2de-c44dea28bdb8",
   "metadata": {},
   "outputs": [],
   "source": [
    "# Schlüssel- Wertpaar Dictionaries\n",
    "authors_and_birth_years = {\"Lovelace\": 1815, \n",
    "                           \"Darwin\": 1809, \n",
    "                           \"Noether\": 1882, \n",
    "                           \"Hawking\":1942}"
   ]
  },
  {
   "cell_type": "code",
   "execution_count": 47,
   "id": "dfe5702a-e11b-4073-a514-cdf603e9ff1b",
   "metadata": {},
   "outputs": [
    {
     "data": {
      "text/plain": [
       "1809"
      ]
     },
     "execution_count": 47,
     "metadata": {},
     "output_type": "execute_result"
    }
   ],
   "source": [
    "authors_and_birth_years[\"Darwin\"]"
   ]
  },
  {
   "cell_type": "code",
   "execution_count": 48,
   "id": "c4590bb4-7609-4d9d-b912-b67125884f62",
   "metadata": {},
   "outputs": [
    {
     "data": {
      "text/plain": [
       "dict_keys(['Lovelace', 'Darwin', 'Noether', 'Hawking'])"
      ]
     },
     "execution_count": 48,
     "metadata": {},
     "output_type": "execute_result"
    }
   ],
   "source": [
    "authors_and_birth_years.keys()"
   ]
  },
  {
   "cell_type": "markdown",
   "id": "686f9547-044e-48d2-9c9d-6cf4f201e601",
   "metadata": {},
   "source": [
    "## For-Schleife"
   ]
  },
  {
   "cell_type": "code",
   "execution_count": 49,
   "id": "e62b494d-c517-4f00-88e0-aff80ec4ee16",
   "metadata": {},
   "outputs": [
    {
     "data": {
      "text/plain": [
       "['Lovelace', 'Darwin', 'Noether', 'Hawking']"
      ]
     },
     "execution_count": 49,
     "metadata": {},
     "output_type": "execute_result"
    }
   ],
   "source": [
    "names"
   ]
  },
  {
   "cell_type": "code",
   "execution_count": 51,
   "id": "e2ff02b7-497f-4e31-9a69-50835fba29cc",
   "metadata": {},
   "outputs": [
    {
     "name": "stdout",
     "output_type": "stream",
     "text": [
      "Lovelace did awesome stuff.\n",
      "Darwin did awesome stuff.\n",
      "Noether did awesome stuff.\n",
      "Hawking did awesome stuff.\n"
     ]
    }
   ],
   "source": [
    "for person in names:\n",
    "    print(person + \" did awesome stuff.\")"
   ]
  },
  {
   "cell_type": "code",
   "execution_count": 53,
   "id": "1c1ced94-7728-4817-9718-1f514fb9efe4",
   "metadata": {},
   "outputs": [
    {
     "name": "stdout",
     "output_type": "stream",
     "text": [
      "Variable                  Type     Data/Info\n",
      "--------------------------------------------\n",
      "age                       int      29\n",
      "authors_and_birth_years   dict     n=4\n",
      "first_name                str      Michèle\n",
      "knows_publications        bool     True\n",
      "likes_gardening           bool     False\n",
      "name                      str      Robrecht\n",
      "name_upper                str      ROBRECHT\n",
      "names                     list     n=4\n",
      "number_of_articles        str      50\n",
      "person                    str      Hawking\n",
      "size                      float    1.65\n"
     ]
    }
   ],
   "source": [
    "# Liste der Variablen\n",
    "%whos"
   ]
  },
  {
   "cell_type": "markdown",
   "id": "bfda2941-fd4f-4cec-86d9-917c3b9122aa",
   "metadata": {},
   "source": [
    "## Conditionals (Bedingte Anweisungen)"
   ]
  },
  {
   "cell_type": "code",
   "execution_count": 54,
   "id": "134f81a2-f3c1-4299-a906-6a3810a02c74",
   "metadata": {},
   "outputs": [],
   "source": [
    "temp = 20"
   ]
  },
  {
   "cell_type": "code",
   "execution_count": 55,
   "id": "07803e34-8a07-4028-b0be-4ecc59cc5049",
   "metadata": {},
   "outputs": [
    {
     "name": "stdout",
     "output_type": "stream",
     "text": [
      "Es ist warm.\n"
     ]
    }
   ],
   "source": [
    "if temp >15:\n",
    "    print(\"Es ist warm.\")"
   ]
  },
  {
   "cell_type": "code",
   "execution_count": 57,
   "id": "4593f1a9-78ab-4aaa-8111-cf281032950e",
   "metadata": {},
   "outputs": [
    {
     "name": "stdout",
     "output_type": "stream",
     "text": [
      "Es ist kalt.\n"
     ]
    }
   ],
   "source": [
    "temp = 10\n",
    "if temp >15:\n",
    "    print(\"Es ist warm.\")\n",
    "else: print(\"Es ist kalt.\")"
   ]
  },
  {
   "cell_type": "code",
   "execution_count": 60,
   "id": "927f7cde-dd89-4e10-ac90-55b7b251bb0a",
   "metadata": {},
   "outputs": [
    {
     "name": "stdout",
     "output_type": "stream",
     "text": [
      "Es ist kalt.\n"
     ]
    }
   ],
   "source": [
    "temp = 1\n",
    "if temp > 25:\n",
    "    print(\"Es ist heiß.\")\n",
    "elif temp >= 15:\n",
    "    print(\"Es ist warm.\")\n",
    "else:\n",
    "    print(\"Es ist kalt.\")"
   ]
  },
  {
   "cell_type": "code",
   "execution_count": null,
   "id": "b7bcfeb2-73f3-4e96-93a9-75cd1a14b30d",
   "metadata": {},
   "outputs": [],
   "source": []
  }
 ],
 "metadata": {
  "kernelspec": {
   "display_name": "Python 3 (ipykernel)",
   "language": "python",
   "name": "python3"
  },
  "language_info": {
   "codemirror_mode": {
    "name": "ipython",
    "version": 3
   },
   "file_extension": ".py",
   "mimetype": "text/x-python",
   "name": "python",
   "nbconvert_exporter": "python",
   "pygments_lexer": "ipython3",
   "version": "3.12.7"
  }
 },
 "nbformat": 4,
 "nbformat_minor": 5
}
